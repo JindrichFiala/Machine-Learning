{
 "cells": [
  {
   "cell_type": "markdown",
   "metadata": {},
   "source": [
    "# Convolutional Neural Network for Image Recognition"
   ]
  },
  {
   "cell_type": "markdown",
   "metadata": {},
   "source": [
    "In this example we will present building and traing a convolutiontinal neural network for image recognition. "
   ]
  },
  {
   "cell_type": "markdown",
   "metadata": {},
   "source": [
    "First of all we will import the NumPy library and assigns it the alias np."
   ]
  },
  {
   "cell_type": "code",
   "execution_count": 148,
   "metadata": {},
   "outputs": [],
   "source": [
    "import numpy as np"
   ]
  },
  {
   "cell_type": "markdown",
   "metadata": {},
   "source": [
    "#### Importing dataset"
   ]
  },
  {
   "cell_type": "markdown",
   "metadata": {},
   "source": [
    "Then we will import the CIFAR-10 dataset module from the keras.datasets package."
   ]
  },
  {
   "cell_type": "code",
   "execution_count": 149,
   "metadata": {},
   "outputs": [],
   "source": [
    "from keras.datasets import cifar10"
   ]
  },
  {
   "cell_type": "markdown",
   "metadata": {},
   "source": [
    "#### Loading data"
   ]
  },
  {
   "cell_type": "markdown",
   "metadata": {},
   "source": [
    "Using the following code we can load the CIFAR-10 dataset and splits it into training and test sets. Unpacking the Data the method returns two tuples:\n",
    "\n",
    "The first tuple contains the training data: (x_train, y_train).\n",
    "The second tuple contains the test data: (x_test, y_test).\n",
    "\n",
    "x_train and x_test are variables hold the images of the training and test sets, respectively.\n",
    "\n",
    "y_train and y_test are variables hold the labels of the training and test sets, respectively."
   ]
  },
  {
   "cell_type": "code",
   "execution_count": 150,
   "metadata": {},
   "outputs": [],
   "source": [
    "(x_train,y_train),(x_test, y_test) = cifar10.load_data()"
   ]
  },
  {
   "cell_type": "code",
   "execution_count": 151,
   "metadata": {},
   "outputs": [
    {
     "data": {
      "text/plain": [
       "(50000, 32, 32, 3)"
      ]
     },
     "execution_count": 151,
     "metadata": {},
     "output_type": "execute_result"
    }
   ],
   "source": [
    "x_train.shape"
   ]
  },
  {
   "cell_type": "markdown",
   "metadata": {},
   "source": [
    "We have 50,000 images, 32 x 32 pixels of 3 colors (RGB) for training."
   ]
  },
  {
   "cell_type": "code",
   "execution_count": 152,
   "metadata": {},
   "outputs": [
    {
     "data": {
      "text/plain": [
       "(10000, 32, 32, 3)"
      ]
     },
     "execution_count": 152,
     "metadata": {},
     "output_type": "execute_result"
    }
   ],
   "source": [
    "x_test.shape"
   ]
  },
  {
   "cell_type": "markdown",
   "metadata": {},
   "source": [
    "We have 10,000 images, 32 x 32 pixels of 3 colors (RGB) for testing."
   ]
  },
  {
   "cell_type": "code",
   "execution_count": 153,
   "metadata": {},
   "outputs": [],
   "source": [
    "import matplotlib.pyplot as plt"
   ]
  },
  {
   "cell_type": "markdown",
   "metadata": {},
   "source": [
    "Using the package matplotlib will display the first image in the x_train array from the training dataset."
   ]
  },
  {
   "cell_type": "code",
   "execution_count": 154,
   "metadata": {},
   "outputs": [
    {
     "data": {
      "text/plain": [
       "<matplotlib.image.AxesImage at 0x24700004e10>"
      ]
     },
     "execution_count": 154,
     "metadata": {},
     "output_type": "execute_result"
    },
    {
     "data": {
      "image/png": "[encoded data removed]",
      "text/plain": [
       "<Figure size 432x288 with 1 Axes>"
      ]
     },
     "metadata": {
      "needs_background": "light"
     },
     "output_type": "display_data"
    }
   ],
   "source": [
    "plt.imshow(x_train[0])"
   ]
  },
  {
   "cell_type": "markdown",
   "metadata": {},
   "source": [
    "Simillartly we can display for example the 10th immage of the testing dataset."
   ]
  },
  {
   "cell_type": "code",
   "execution_count": 155,
   "metadata": {},
   "outputs": [
    {
     "data": {
      "text/plain": [
       "<matplotlib.image.AxesImage at 0x24700065f28>"
      ]
     },
     "execution_count": 155,
     "metadata": {},
     "output_type": "execute_result"
    },
    {
     "data": {
      "image/png": "[encoded data removed]",
      "text/plain": [
       "<Figure size 432x288 with 1 Axes>"
      ]
     },
     "metadata": {
      "needs_background": "light"
     },
     "output_type": "display_data"
    }
   ],
   "source": [
    "plt.imshow(x_test[10])"
   ]
  },
  {
   "cell_type": "markdown",
   "metadata": {},
   "source": [
    "#### Normalizing"
   ]
  },
  {
   "cell_type": "code",
   "execution_count": 156,
   "metadata": {},
   "outputs": [
    {
     "data": {
      "text/plain": [
       "255"
      ]
     },
     "execution_count": 156,
     "metadata": {},
     "output_type": "execute_result"
    }
   ],
   "source": [
    "x_train.max()"
   ]
  },
  {
   "cell_type": "code",
   "execution_count": 157,
   "metadata": {},
   "outputs": [
    {
     "data": {
      "text/plain": [
       "255"
      ]
     },
     "execution_count": 157,
     "metadata": {},
     "output_type": "execute_result"
    }
   ],
   "source": [
    "x_test.max()"
   ]
  },
  {
   "cell_type": "raw",
   "metadata": {},
   "source": [
    "Our original images consist in RGB coefficients in the range 0-255, but such values would be too high for models to process. It may cause to too long learning rate. So we target values between 0 and 1 instead by scaling with a 1/255 factor."
   ]
  },
  {
   "cell_type": "code",
   "execution_count": 158,
   "metadata": {},
   "outputs": [],
   "source": [
    "x_train = x_train/255\n",
    "x_test = x_test/255"
   ]
  },
  {
   "cell_type": "code",
   "execution_count": 159,
   "metadata": {},
   "outputs": [
    {
     "data": {
      "text/plain": [
       "1.0"
      ]
     },
     "execution_count": 159,
     "metadata": {},
     "output_type": "execute_result"
    }
   ],
   "source": [
    "x_train.max()"
   ]
  },
  {
   "cell_type": "code",
   "execution_count": 160,
   "metadata": {},
   "outputs": [
    {
     "data": {
      "text/plain": [
       "1.0"
      ]
     },
     "execution_count": 160,
     "metadata": {},
     "output_type": "execute_result"
    }
   ],
   "source": [
    "x_test.max()"
   ]
  },
  {
   "cell_type": "markdown",
   "metadata": {},
   "source": [
    "Now we see that the maximal values do not exaggerate the 1s."
   ]
  },
  {
   "cell_type": "markdown",
   "metadata": {},
   "source": [
    "#### Converting labels"
   ]
  },
  {
   "cell_type": "code",
   "execution_count": 119,
   "metadata": {},
   "outputs": [
    {
     "data": {
      "text/plain": [
       "array([[6],\n",
       "       [9],\n",
       "       [9],\n",
       "       ...,\n",
       "       [9],\n",
       "       [1],\n",
       "       [1]], dtype=uint8)"
      ]
     },
     "execution_count": 119,
     "metadata": {},
     "output_type": "execute_result"
    }
   ],
   "source": [
    "y_train"
   ]
  },
  {
   "cell_type": "code",
   "execution_count": 120,
   "metadata": {},
   "outputs": [
    {
     "data": {
      "text/plain": [
       "array([0, 1, 2, 3, 4, 5, 6, 7, 8, 9], dtype=uint8)"
      ]
     },
     "execution_count": 120,
     "metadata": {},
     "output_type": "execute_result"
    }
   ],
   "source": [
    "np.unique(y_train)"
   ]
  },
  {
   "cell_type": "markdown",
   "metadata": {},
   "source": [
    "We have labels from 0 to 10, which means airplane, car, bird, cat, deer, dog, frog, horse, ship, and truck.\n",
    "\n",
    "The folowing lines convert the integer labels y_train and y_test into one-hot encoded format.\n",
    "\n",
    "One-hot encoding is a method used to convert categorical data into a binary (0 or 1) matrix. Each category or class is represented as a binary vector with a length equal to the number of classes. In this vector, all the elements are 0 except for the one at the index corresponding to the class, which is 1.\n",
    "\n",
    "The number 10 in function represents 10 classes. The conversion yelds in the following matrix.\n",
    "\n",
    "        cars  birds cats  deer  dogs  frogs horses ships trucks\n",
    "cars      1     0     0     0     0     0     0     0     0\n",
    "birds     0     1     0     0     0     0     0     0     0\n",
    "cats      0     0     1     0     0     0     0     0     0\n",
    "deer      0     0     0     1     0     0     0     0     0\n",
    "dogs      0     0     0     0     1     0     0     0     0\n",
    "frogs     0     0     0     0     0     1     0     0     0\n",
    "horses    0     0     0     0     0     0     1     0     0\n",
    "ships     0     0     0     0     0     0     0     1     0\n",
    "trucks    0     0     0     0     0     0     0     0     1\n"
   ]
  },
  {
   "cell_type": "code",
   "execution_count": 133,
   "metadata": {},
   "outputs": [],
   "source": [
    "from keras.utils import to_categorical"
   ]
  },
  {
   "cell_type": "code",
   "execution_count": 134,
   "metadata": {},
   "outputs": [],
   "source": [
    "y_cat_train = to_categorical(y_train,10)\n",
    "y_cat_test = to_categorical(y_test,10)"
   ]
  },
  {
   "cell_type": "markdown",
   "metadata": {},
   "source": [
    "#### Building a model"
   ]
  },
  {
   "cell_type": "markdown",
   "metadata": {},
   "source": [
    "Now we are going to build a neural network.\n",
    "\n",
    "Firstly we will imports the sequential class from the keras.models module. The sequential class is used to create a linear stack of layers for building neural network models.\n",
    "\n",
    "Then we will import specific layer types\n",
    "- Dense Layer\n",
    "- Conv2D Layer\n",
    "- MaxPool2D Layer\n",
    "- Flatten Layer\n",
    "\n",
    "These layers are building blocks used to construct neural network architectures:\n",
    "- Dense: in other words fully connected layer in which every neuron connected to every neuron in the preceding layer.\n",
    "- Conv2D: Convolutional layer for 2D spatial convolution over images. Convolution is the continuous a sum of the product of two functions after one of them moves across the image and is called a kernel. Convolutional layers consist of a set of kernels.\n",
    "- MaxPool2D: A pooling layer for 2D spatial data typically used after convolutional layers. It is used to downsample the spatial dimensions by reducing their size while retaining important information. Here few pixes are replaced by one pixel of the maximal value among them.\n",
    "- Flatten: Layer: Flattens the data into a one-dimensional array used to connect convolutional layers to fully connected layers."
   ]
  },
  {
   "cell_type": "code",
   "execution_count": 135,
   "metadata": {},
   "outputs": [],
   "source": [
    "from keras.models import Sequential\n",
    "from keras.layers import Dense, Conv2D, MaxPool2D, Flatten"
   ]
  },
  {
   "cell_type": "code",
   "execution_count": 137,
   "metadata": {},
   "outputs": [],
   "source": [
    "model = Sequential()\n",
    "\n",
    "# Convolutional Layer\n",
    "model.add(Conv2D(filters=32, kernel_size=(4,4),input_shape=(32, 32, 3), activation='relu',))\n",
    "\n",
    "# Pooling Layer\n",
    "model.add(MaxPool2D(pool_size=(2, 2)))\n",
    "\n",
    "# Convolutiotional Layer\n",
    "model.add(Conv2D(filters=32, kernel_size=(4,4),input_shape=(32, 32, 3), activation='relu',))\n",
    "\n",
    "# Pooling Layer\n",
    "model.add(MaxPool2D(pool_size=(2, 2)))\n",
    "\n",
    "# Flatten layer (Converts 28 x 28 2D array intoto 764 1D Array)\n",
    "model.add(Flatten())\n",
    "\n",
    "# Dense hidden layer\n",
    "model.add(Dense(256, activation='relu'))\n",
    "\n",
    "# Clasifier\n",
    "model.add(Dense(10, activation='softmax'))"
   ]
  },
  {
   "cell_type": "markdown",
   "metadata": {},
   "source": [
    "#### Compiling The Model"
   ]
  },
  {
   "cell_type": "markdown",
   "metadata": {},
   "source": [
    "We will compile the model using the followitng command."
   ]
  },
  {
   "cell_type": "code",
   "execution_count": 138,
   "metadata": {},
   "outputs": [],
   "source": [
    "model.compile(loss='categorical_crossentropy', optimizer='rmsprop', metrics=['accuracy'])"
   ]
  },
  {
   "cell_type": "markdown",
   "metadata": {},
   "source": [
    "The meaning of the parameter have the following meanings \n",
    "\n",
    "loss='categorical_crossentropy' specifies the loss function to be used during training. In this case, it's categorical cross-entropy. It measures the dissimilarity between the true labels and the predicted probability distribution across all classes.\n",
    "\n",
    "When using categorical cross-entropy, the model's output layer typically has a softmax activation function optimizer='rmsprop'. This specifies the optimization algorithm to be used for training the model. In this case, it's RMSprop - Root Mean Square Propagation). It is an adaptive learning rate optimization algorithm that adjusts the learning rate for each parameter based on the magnitude of its gradients.\n",
    "\n",
    "Metrics specifies the evaluation metrics to be used during training and testing. In this case, it's accuracy.\n",
    "\n",
    "Bellow is the summary of the model. This summary gives an overview of each layer in the model, showing how data flows through the network and how the dimensions and number of parameters change at each layer."
   ]
  },
  {
   "cell_type": "code",
   "execution_count": 139,
   "metadata": {},
   "outputs": [
    {
     "name": "stdout",
     "output_type": "stream",
     "text": [
      "_________________________________________________________________\n",
      "Layer (type)                 Output Shape              Param #   \n",
      "=================================================================\n",
      "conv2d_11 (Conv2D)           (None, 29, 29, 32)        1568      \n",
      "_________________________________________________________________\n",
      "max_pooling2d_8 (MaxPooling2 (None, 14, 14, 32)        0         \n",
      "_________________________________________________________________\n",
      "conv2d_12 (Conv2D)           (None, 11, 11, 32)        16416     \n",
      "_________________________________________________________________\n",
      "max_pooling2d_9 (MaxPooling2 (None, 5, 5, 32)          0         \n",
      "_________________________________________________________________\n",
      "flatten_1 (Flatten)          (None, 800)               0         \n",
      "_________________________________________________________________\n",
      "dense_13 (Dense)             (None, 256)               205056    \n",
      "_________________________________________________________________\n",
      "dense_14 (Dense)             (None, 10)                2570      \n",
      "=================================================================\n",
      "Total params: 225,610\n",
      "Trainable params: 225,610\n",
      "Non-trainable params: 0\n",
      "_________________________________________________________________\n"
     ]
    }
   ],
   "source": [
    "model.summary()"
   ]
  },
  {
   "cell_type": "markdown",
   "metadata": {},
   "source": [
    "#### Training the model"
   ]
  },
  {
   "cell_type": "markdown",
   "metadata": {},
   "source": [
    "We have selected 10 epoch. During each epoch the model performs forward and backward passes on the training data to adjust the weights and minimize the loss function."
   ]
  },
  {
   "cell_type": "code",
   "execution_count": 161,
   "metadata": {},
   "outputs": [
    {
     "name": "stdout",
     "output_type": "stream",
     "text": [
      "Epoch 1/10\n",
      "50000/50000 [==============================] - 50s 999us/step - loss: 0.5068 - acc: 0.8286\n",
      "Epoch 2/10\n",
      "50000/50000 [==============================] - 51s 1ms/step - loss: 0.4739 - acc: 0.8404\n",
      "Epoch 3/10\n",
      "50000/50000 [==============================] - 52s 1ms/step - loss: 0.4419 - acc: 0.8489\n",
      "Epoch 4/10\n",
      "50000/50000 [==============================] - 51s 1ms/step - loss: 0.4252 - acc: 0.8572\n",
      "Epoch 5/10\n",
      "50000/50000 [==============================] - 51s 1ms/step - loss: 0.3928 - acc: 0.8666\n",
      "Epoch 6/10\n",
      "50000/50000 [==============================] - 46s 924us/step - loss: 0.3810 - acc: 0.8724\n",
      "Epoch 7/10\n",
      "50000/50000 [==============================] - 48s 951us/step - loss: 0.3548 - acc: 0.8835\n",
      "Epoch 8/10\n",
      "50000/50000 [==============================] - 49s 971us/step - loss: 0.3426 - acc: 0.8873\n",
      "Epoch 9/10\n",
      "50000/50000 [==============================] - 55s 1ms/step - loss: 0.3346 - acc: 0.8926\n",
      "Epoch 10/10\n",
      "50000/50000 [==============================] - 52s 1ms/step - loss: 0.3208 - acc: 0.8938\n"
     ]
    },
    {
     "data": {
      "text/plain": [
       "<keras.callbacks.History at 0x2472a619f98>"
      ]
     },
     "execution_count": 161,
     "metadata": {},
     "output_type": "execute_result"
    }
   ],
   "source": [
    "model.fit(x_train, y_cat_train, verbose=1, epochs=10)"
   ]
  },
  {
   "cell_type": "markdown",
   "metadata": {},
   "source": [
    "#### Evaluation"
   ]
  },
  {
   "cell_type": "code",
   "execution_count": 162,
   "metadata": {},
   "outputs": [
    {
     "name": "stdout",
     "output_type": "stream",
     "text": [
      "10000/10000 [==============================] - 4s 365us/step\n"
     ]
    },
    {
     "data": {
      "text/plain": [
       "[1.8710919101715089, 0.6476]"
      ]
     },
     "execution_count": 162,
     "metadata": {},
     "output_type": "execute_result"
    }
   ],
   "source": [
    "model.evaluate(x_test,y_cat_test)"
   ]
  },
  {
   "cell_type": "code",
   "execution_count": 163,
   "metadata": {},
   "outputs": [],
   "source": [
    "from sklearn.metrics import classification_report"
   ]
  },
  {
   "cell_type": "code",
   "execution_count": 164,
   "metadata": {},
   "outputs": [
    {
     "name": "stdout",
     "output_type": "stream",
     "text": [
      "             precision    recall  f1-score   support\n",
      "\n",
      "          0       0.60      0.75      0.67      1000\n",
      "          1       0.87      0.68      0.76      1000\n",
      "          2       0.65      0.47      0.54      1000\n",
      "          3       0.43      0.51      0.47      1000\n",
      "          4       0.57      0.64      0.60      1000\n",
      "          5       0.50      0.58      0.54      1000\n",
      "          6       0.84      0.65      0.73      1000\n",
      "          7       0.66      0.78      0.71      1000\n",
      "          8       0.82      0.68      0.74      1000\n",
      "          9       0.74      0.74      0.74      1000\n",
      "\n",
      "avg / total       0.67      0.65      0.65     10000\n",
      "\n"
     ]
    }
   ],
   "source": [
    "print(classification_report(y_test,model.predict_classes(x_test)))"
   ]
  },
  {
   "cell_type": "markdown",
   "metadata": {},
   "source": [
    "The summary table shows that model's performance varies across classes, with precision ranging from 0.43 to 0.87 and recall from 0.47 to 0.78. Notably, the model performs best on class 1 with a precision of 0.87 and on class 7 with a recall of 0.78. The lowest performance is observed for class 3 with a precision of 0.43 and for class 2 with a recall of 0.47. Each class in the dataset has 1000 instances, indicating a balanced dataset. The report highlights that while the model performs reasonably well, there is room for improvement, particularly in increasing recall and precision for certain classes."
   ]
  }
 ],
 "metadata": {
  "kernelspec": {
   "display_name": "Python 3",
   "language": "python",
   "name": "python3"
  },
  "language_info": {
   "codemirror_mode": {
    "name": "ipython",
    "version": 3
   },
   "file_extension": ".py",
   "mimetype": "text/x-python",
   "name": "python",
   "nbconvert_exporter": "python",
   "pygments_lexer": "ipython3",
   "version": "3.6.6"
  }
 },
 "nbformat": 4,
 "nbformat_minor": 2
}
